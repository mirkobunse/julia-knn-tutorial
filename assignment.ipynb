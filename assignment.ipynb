{
 "cells": [
  {
   "cell_type": "markdown",
   "metadata": {},
   "source": [
    "# Julia k-NN Tutorial\n",
    "\n",
    "Your task is to implement a simple k-nearest neighbors (k-NN) classifier for the Iris data set.\n",
    "\n",
    "## Outline:\n",
    "\n",
    "- Load the Iris data **[DONE]**\n",
    "- Compute the euclidean distance between examples\n",
    "- Implement a k-NN classifier\n",
    "- Estimate the test set accuracy of your classifier\n",
    "\n",
    "**Julia Manual:** https://docs.julialang.org\n",
    "\n",
    "---\n",
    "\n",
    "### If you are not using Binder...\n",
    "\n",
    "...you must have installed Julia-1.3, the IJulia package (to start this notebook) and the packages used in this tutorial:\n",
    "\n",
    "```\n",
    "using Pkg\n",
    "Pkg.add(\"MLDataUtils\")\n",
    "Pkg.add(\"StatsBase\")\n",
    "```\n",
    "\n",
    "---\n",
    "\n",
    "Alright!\n",
    "\n",
    "## 1) Loading the Data [Done]\n",
    "\n",
    "Keep this cell as it is."
   ]
  },
  {
   "cell_type": "code",
   "execution_count": 1,
   "metadata": {},
   "outputs": [],
   "source": [
    "# import packages\n",
    "using MLDataUtils, Random\n",
    "Random.seed!(123) # set the random number seed\n",
    "\n",
    "# load the IRIS data set and split it into a training and a test set\n",
    "X, y = MLDataUtils.load_iris()\n",
    "(X_trn, y_trn), (X_tst, y_tst) = splitobs(shuffleobs((X, y)), at=0.666)\n",
    "\n",
    "# I assume you are more familiar with a (n_samples, n_features) shape than\n",
    "# with the (n_features, n_samples) shape used by MLDataUtils.jl\n",
    "X_trn = transpose(X_trn) # now the shape looks like the one used by sklearn\n",
    "X_tst = transpose(X_tst)\n",
    "\n",
    "# X_trn and y_trn are the training set observations and labels, respectively.\n",
    "# X_tst and y_tst define the test set.\n",
    "\n",
    "; # ending with a semicolon omits printing the output of a cell"
   ]
  },
  {
   "cell_type": "markdown",
   "metadata": {},
   "source": [
    "## 2) Computing the Euclidean Distance\n",
    "\n",
    "The euclidean distance between two vectors `a` and `b` is the square root of the sum of their squared component-wise differences: https://en.wikipedia.org/wiki/Euclidean_distance\n",
    "\n",
    "**Your Task:** Compute the euclidean distance between two vectors `a` and `b`.\n",
    "\n",
    "**Note:** Do not use any additional package for computing the distance. Implement the function yourself!"
   ]
  },
  {
   "cell_type": "code",
   "execution_count": 2,
   "metadata": {},
   "outputs": [
    {
     "data": {
      "text/plain": [
       "euclidean (generic function with 1 method)"
      ]
     },
     "execution_count": 2,
     "metadata": {},
     "output_type": "execute_result"
    }
   ],
   "source": [
    "function euclidean(a, b)\n",
    "    error(\"TODO: implement this function\")\n",
    "end"
   ]
  },
  {
   "cell_type": "code",
   "execution_count": 3,
   "metadata": {},
   "outputs": [
    {
     "ename": "ErrorException",
     "evalue": "TODO: implement this function",
     "output_type": "error",
     "traceback": [
      "TODO: implement this function",
      "",
      "Stacktrace:",
      " [1] error(::String) at ./error.jl:33",
      " [2] euclidean(::Array{Float64,1}, ::Array{Float64,1}) at ./In[2]:2",
      " [3] top-level scope at util.jl:155",
      " [4] top-level scope at In[3]:4"
     ]
    }
   ],
   "source": [
    "#\n",
    "# You can use this cell to test your implementation\n",
    "#\n",
    "a_tst = Random.rand(10000) # 100000-element Array{Float64,1}\n",
    "b_tst = Random.rand(10000)\n",
    "@time euclidean(a_tst, b_tst) # how fast is your implementation?"
   ]
  },
  {
   "cell_type": "code",
   "execution_count": 4,
   "metadata": {},
   "outputs": [
    {
     "ename": "ErrorException",
     "evalue": "TODO: implement this function",
     "output_type": "error",
     "traceback": [
      "TODO: implement this function",
      "",
      "Stacktrace:",
      " [1] error(::String) at ./error.jl:33",
      " [2] euclidean(::Array{Float64,1}, ::Array{Float64,2}) at ./In[2]:2",
      " [3] top-level scope at util.jl:155",
      " [4] top-level scope at In[4]:4"
     ]
    }
   ],
   "source": [
    "#\n",
    "# Can you also compute the distance of one point a to all points in B?\n",
    "# \n",
    "# Use Multiple Dispatch to extend euclidean to a function with two methods!\n",
    "# Alternatively, implement another method batch_euclidean which does the job.\n",
    "#\n",
    "a_tst = Random.rand(10000) # 100000-element Array{Float64,1}\n",
    "B_tst = Random.rand(10, 10000) # 10 such vectors, i.e. a 3x10000-element Array{Float64,2}\n",
    "@time euclidean(a_tst, B_tst)"
   ]
  },
  {
   "cell_type": "markdown",
   "metadata": {},
   "source": [
    "## 3) k-NN Classification\n",
    "\n",
    "A k-NN classifier stores the entire training set. When predicting a new example, it computes the distance of this example to all training examples. The k closest training examples are allowed to vote for a prediction. The label which occurs most often is used as the final prediction.\n",
    "\n",
    "**Note:** I already provide you with the (generic) type `KNN` because Jupyter complains when types are re-defined. This would happen just too often during development. Feel free to make changes, but remember to restart your kernel then. Outside of Jupyter you will not experience this problem with Julia."
   ]
  },
  {
   "cell_type": "code",
   "execution_count": 5,
   "metadata": {},
   "outputs": [],
   "source": [
    "struct KNN{T_X<:Number, T_y<:Any}\n",
    "    X::AbstractArray{T_X,2} # training set (features)\n",
    "    y::AbstractArray{T_y,1} # training set (labels)\n",
    "    k::Int64 # k, the number of neighbors to consider\n",
    "end\n",
    "\n",
    "# you can instantiate an object of this type by calling KNN(X_trn, y_trn, k)"
   ]
  },
  {
   "cell_type": "code",
   "execution_count": null,
   "metadata": {},
   "outputs": [],
   "source": [
    "using StatsBase: countmap # hint: countmap can be used to count the votes\n",
    "@doc countmap # open the documentation of this function"
   ]
  },
  {
   "cell_type": "code",
   "execution_count": null,
   "metadata": {},
   "outputs": [],
   "source": [
    "@doc findmax # to be used together with countmap"
   ]
  },
  {
   "cell_type": "code",
   "execution_count": 8,
   "metadata": {},
   "outputs": [
    {
     "data": {
      "text/plain": [
       "(2, \"versicolor\")"
      ]
     },
     "execution_count": 8,
     "metadata": {},
     "output_type": "execute_result"
    }
   ],
   "source": [
    "# to complete the hint, let us assume we had an array of three votes\n",
    "vote_example = [\"versicolor\", \"setosa\", \"versicolor\"]\n",
    "findmax(countmap(vote_example)) # find the (count, value) pair of the most frequent vote"
   ]
  },
  {
   "cell_type": "code",
   "execution_count": 9,
   "metadata": {},
   "outputs": [
    {
     "data": {
      "text/plain": [
       "predict (generic function with 1 method)"
      ]
     },
     "execution_count": 9,
     "metadata": {},
     "output_type": "execute_result"
    }
   ],
   "source": [
    "# now it's your turn again:\n",
    "\n",
    "function predict(knn, X) # knn is an object of type KNN, X is to be predicted\n",
    "    error(\"TODO: implement this function\")\n",
    "end"
   ]
  },
  {
   "cell_type": "markdown",
   "metadata": {},
   "source": [
    "## 4) Estimate the Accuracy\n",
    "\n",
    "Predict the test set `X_tst` and compare your predictions with the true labels `y_tst`. The accuracy is defined as the fraction of correct predictions."
   ]
  },
  {
   "cell_type": "code",
   "execution_count": 10,
   "metadata": {},
   "outputs": [],
   "source": [
    "# TODO"
   ]
  }
 ],
 "metadata": {
  "kernelspec": {
   "display_name": "Julia 1.3.0",
   "language": "julia",
   "name": "julia-1.3"
  },
  "language_info": {
   "file_extension": ".jl",
   "mimetype": "application/julia",
   "name": "julia",
   "version": "1.3.0"
  }
 },
 "nbformat": 4,
 "nbformat_minor": 2
}
