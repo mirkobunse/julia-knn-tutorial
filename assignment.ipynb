{
 "cells": [
  {
   "cell_type": "markdown",
   "metadata": {},
   "source": [
    "# Julia k-NN Tutorial\n",
    "\n",
    "Your task is to implement a simple k-nearest neighbors (k-NN) classifier for the Iris data set.\n",
    "\n",
    "## Outline:\n",
    "\n",
    "- Load the Iris data **[DONE]**\n",
    "- Compute the euclidean distance between examples\n",
    "- Implement a k-NN classifier\n",
    "- Estimate the test set accuracy of your classifier\n",
    "\n",
    "## If you are not using Binder...\n",
    "\n",
    "...you may have to install the packages used in this tutorial:\n",
    "\n",
    "```\n",
    "using Pkg\n",
    "Pkg.add(\"MLDataUtils\")\n",
    "Pkg.add(\"StatsBase\")\n",
    "```\n",
    "\n",
    "---\n",
    "\n",
    "Alright!\n",
    "\n",
    "## 1) Loading the Data [Done]\n",
    "\n",
    "You do not need to make any changes in this cell."
   ]
  },
  {
   "cell_type": "code",
   "execution_count": 1,
   "metadata": {},
   "outputs": [],
   "source": [
    "# import packages\n",
    "using MLDataUtils, Random\n",
    "Random.seed!(123) # set the random number seed\n",
    "\n",
    "# load the IRIS data set and split it into a training and a test set\n",
    "X, y = MLDataUtils.load_iris()\n",
    "(X_trn, y_trn), (X_tst, y_tst) = splitobs(shuffleobs((X, y)), at=0.666)\n",
    "\n",
    "# I assume you are more familiar with a (n_samples, n_features) shape than\n",
    "# with the (n_features, n_samples) shape used by MLDataUtils.jl\n",
    "X_trn = transpose(X_trn) # now the shape looks like the one used by sklearn\n",
    "X_tst = transpose(X_tst)\n",
    "\n",
    "# X_trn and y_trn are the training set observations and labels, respectively.\n",
    "# X_tst and y_tst define the test set.\n",
    "\n",
    "; # ending with a semicolon omits printing the output of a cell"
   ]
  },
  {
   "cell_type": "markdown",
   "metadata": {},
   "source": [
    "## 2) Computing the Euclidean Distance\n",
    "\n",
    "The euclidean distance between two vectors `a` and `b` is the square root of the sum of their squared component-wise differences: https://en.wikipedia.org/wiki/Euclidean_distance\n",
    "\n",
    "Your task is now to compute the euclidean distance between arbitrary vectors.\n",
    "\n",
    "**Note:** Do not use any additional package for computing the distance. Implement the function yourself!"
   ]
  },
  {
   "cell_type": "code",
   "execution_count": 2,
   "metadata": {},
   "outputs": [
    {
     "data": {
      "text/plain": [
       "euclidean (generic function with 1 method)"
      ]
     },
     "execution_count": 2,
     "metadata": {},
     "output_type": "execute_result"
    }
   ],
   "source": [
    "function euclidean(a, b)\n",
    "    error(\"TODO: implement this function\")\n",
    "end"
   ]
  },
  {
   "cell_type": "code",
   "execution_count": 3,
   "metadata": {},
   "outputs": [
    {
     "ename": "ErrorException",
     "evalue": "TODO: implement this function",
     "output_type": "error",
     "traceback": [
      "TODO: implement this function",
      "",
      "Stacktrace:",
      " [1] error(::String) at ./error.jl:33",
      " [2] euclidean(::Array{Float64,1}, ::Array{Float64,1}) at ./In[2]:2",
      " [3] top-level scope at util.jl:155",
      " [4] top-level scope at In[3]:4"
     ]
    }
   ],
   "source": [
    "# you can use this cell to test your implementation\n",
    "a_tst = Random.rand(10000) # 100000-element Array{Float64,1}\n",
    "b_tst = Random.rand(10000)\n",
    "@time euclidean(a_tst, b_tst)"
   ]
  },
  {
   "cell_type": "code",
   "execution_count": 4,
   "metadata": {},
   "outputs": [
    {
     "ename": "ErrorException",
     "evalue": "TODO: implement this function",
     "output_type": "error",
     "traceback": [
      "TODO: implement this function",
      "",
      "Stacktrace:",
      " [1] error(::String) at ./error.jl:33",
      " [2] euclidean(::Array{Float64,1}, ::Array{Float64,2}) at ./In[2]:2",
      " [3] top-level scope at util.jl:155",
      " [4] top-level scope at In[4]:4"
     ]
    }
   ],
   "source": [
    "# can you also compute the distance of one point a to all points in B?\n",
    "a_tst = Random.rand(10000) # 100000-element Array{Float64,1}\n",
    "B_tst = Random.rand(10, 10000) # 10 such vectors, i.e. a 3x10000-element Array{Float64,2}\n",
    "@time euclidean(a_tst, B_tst)"
   ]
  },
  {
   "cell_type": "markdown",
   "metadata": {},
   "source": [
    "## 3) k-NN Classification\n",
    "\n",
    "A k-NN classifier stores the entire training set. When predicting a new example, it computes the distance of this example to all training examples. The k closest training examples are allowed to vote for a prediction. The label which occurs most often is used as the final prediction.\n",
    "\n",
    "**Note:** I already provide you with the (generic) type `KNN` because Jupyter complains when types are re-defined. This would happen just too often during development. Feel free to make changes, but remember to restart your kernel then."
   ]
  },
  {
   "cell_type": "code",
   "execution_count": 5,
   "metadata": {},
   "outputs": [],
   "source": [
    "struct KNN{T_X<:Number, T_y<:Any}\n",
    "    X::AbstractArray{T_X,2} # training set (features)\n",
    "    y::AbstractArray{T_y,1} # training set (labels)\n",
    "    k::Int64 # k, the number of neighbors to consider\n",
    "end\n",
    "\n",
    "# you can instantiate an object of this type by calling KNN(X_trn, y_trn, k)"
   ]
  },
  {
   "cell_type": "code",
   "execution_count": 6,
   "metadata": {},
   "outputs": [
    {
     "data": {
      "text/latex": [
       "\\begin{verbatim}\n",
       "countmap(x; alg = :auto)\n",
       "\\end{verbatim}\n",
       "Return a dictionary mapping each unique value in \\texttt{x} to its number of occurrences.\n",
       "\n",
       "\\begin{itemize}\n",
       "\\item \\texttt{:auto} (default): if \\texttt{StatsBase.radixsort\\_safe(eltype(x)) == true} then use                    \\texttt{:radixsort}, otherwise use \\texttt{:dict}.\n",
       "\n",
       "\n",
       "\\item \\texttt{:radixsort}:      if \\texttt{radixsort\\_safe(eltype(x)) == true} then use the                    \\href{https://en.wikipedia.org/wiki/Radix_sort}{radix sort}                    algorithm to sort the input vector which will generally lead to                    shorter running time. However the radix sort algorithm creates a                    copy of the input vector and hence uses more RAM. Choose \\texttt{:dict}                    if the amount of available RAM is a limitation.\n",
       "\n",
       "\n",
       "\\item \\texttt{:dict}:           use \\texttt{Dict}-based method which is generally slower but uses less                    RAM and is safe for any data type.\n",
       "\n",
       "\\end{itemize}\n"
      ],
      "text/markdown": [
       "```\n",
       "countmap(x; alg = :auto)\n",
       "```\n",
       "\n",
       "Return a dictionary mapping each unique value in `x` to its number of occurrences.\n",
       "\n",
       "  * `:auto` (default): if `StatsBase.radixsort_safe(eltype(x)) == true` then use                    `:radixsort`, otherwise use `:dict`.\n",
       "  * `:radixsort`:      if `radixsort_safe(eltype(x)) == true` then use the                    [radix sort](https://en.wikipedia.org/wiki/Radix_sort)                    algorithm to sort the input vector which will generally lead to                    shorter running time. However the radix sort algorithm creates a                    copy of the input vector and hence uses more RAM. Choose `:dict`                    if the amount of available RAM is a limitation.\n",
       "  * `:dict`:           use `Dict`-based method which is generally slower but uses less                    RAM and is safe for any data type.\n"
      ],
      "text/plain": [
       "\u001b[36m  countmap(x; alg = :auto)\u001b[39m\n",
       "\n",
       "  Return a dictionary mapping each unique value in \u001b[36mx\u001b[39m to its number of\n",
       "  occurrences.\n",
       "\n",
       "    •    \u001b[36m:auto\u001b[39m (default): if \u001b[36mStatsBase.radixsort_safe(eltype(x)) == true\u001b[39m\n",
       "        then use \u001b[36m:radixsort\u001b[39m, otherwise use \u001b[36m:dict\u001b[39m.\n",
       "\n",
       "    •    \u001b[36m:radixsort\u001b[39m: if \u001b[36mradixsort_safe(eltype(x)) == true\u001b[39m then use the\n",
       "        radix sort (https://en.wikipedia.org/wiki/Radix_sort) algorithm to\n",
       "        sort the input vector which will generally lead to shorter running\n",
       "        time. However the radix sort algorithm creates a copy of the input\n",
       "        vector and hence uses more RAM. Choose \u001b[36m:dict\u001b[39m if the amount of\n",
       "        available RAM is a limitation.\n",
       "\n",
       "    •    \u001b[36m:dict\u001b[39m: use \u001b[36mDict\u001b[39m-based method which is generally slower but uses\n",
       "        less RAM and is safe for any data type."
      ]
     },
     "execution_count": 6,
     "metadata": {},
     "output_type": "execute_result"
    }
   ],
   "source": [
    "using StatsBase: countmap # hint: countmap can be used to count the votes\n",
    "@doc countmap # open the documentation of this function"
   ]
  },
  {
   "cell_type": "code",
   "execution_count": 7,
   "metadata": {},
   "outputs": [
    {
     "data": {
      "text/latex": [
       "\\begin{verbatim}\n",
       "findmax(itr) -> (x, index)\n",
       "\\end{verbatim}\n",
       "Return the maximum element of the collection \\texttt{itr} and its index. If there are multiple maximal elements, then the first one will be returned. If any data element is \\texttt{NaN}, this element is returned. The result is in line with \\texttt{max}.\n",
       "\n",
       "The collection must not be empty.\n",
       "\n",
       "\\section{Examples}\n",
       "\\begin{verbatim}\n",
       "julia> findmax([8,0.1,-9,pi])\n",
       "(8.0, 1)\n",
       "\n",
       "julia> findmax([1,7,7,6])\n",
       "(7, 2)\n",
       "\n",
       "julia> findmax([1,7,7,NaN])\n",
       "(NaN, 4)\n",
       "\\end{verbatim}\n",
       "\\begin{verbatim}\n",
       "findmax(A; dims) -> (maxval, index)\n",
       "\\end{verbatim}\n",
       "For an array input, returns the value and index of the maximum over the given dimensions. \\texttt{NaN} is treated as greater than all other values.\n",
       "\n",
       "\\section{Examples}\n",
       "\\begin{verbatim}\n",
       "julia> A = [1.0 2; 3 4]\n",
       "2×2 Array{Float64,2}:\n",
       " 1.0  2.0\n",
       " 3.0  4.0\n",
       "\n",
       "julia> findmax(A, dims=1)\n",
       "([3.0 4.0], CartesianIndex{2}[CartesianIndex(2, 1) CartesianIndex(2, 2)])\n",
       "\n",
       "julia> findmax(A, dims=2)\n",
       "([2.0; 4.0], CartesianIndex{2}[CartesianIndex(1, 2); CartesianIndex(2, 2)])\n",
       "\\end{verbatim}\n"
      ],
      "text/markdown": [
       "```\n",
       "findmax(itr) -> (x, index)\n",
       "```\n",
       "\n",
       "Return the maximum element of the collection `itr` and its index. If there are multiple maximal elements, then the first one will be returned. If any data element is `NaN`, this element is returned. The result is in line with `max`.\n",
       "\n",
       "The collection must not be empty.\n",
       "\n",
       "# Examples\n",
       "\n",
       "```jldoctest\n",
       "julia> findmax([8,0.1,-9,pi])\n",
       "(8.0, 1)\n",
       "\n",
       "julia> findmax([1,7,7,6])\n",
       "(7, 2)\n",
       "\n",
       "julia> findmax([1,7,7,NaN])\n",
       "(NaN, 4)\n",
       "```\n",
       "\n",
       "```\n",
       "findmax(A; dims) -> (maxval, index)\n",
       "```\n",
       "\n",
       "For an array input, returns the value and index of the maximum over the given dimensions. `NaN` is treated as greater than all other values.\n",
       "\n",
       "# Examples\n",
       "\n",
       "```jldoctest\n",
       "julia> A = [1.0 2; 3 4]\n",
       "2×2 Array{Float64,2}:\n",
       " 1.0  2.0\n",
       " 3.0  4.0\n",
       "\n",
       "julia> findmax(A, dims=1)\n",
       "([3.0 4.0], CartesianIndex{2}[CartesianIndex(2, 1) CartesianIndex(2, 2)])\n",
       "\n",
       "julia> findmax(A, dims=2)\n",
       "([2.0; 4.0], CartesianIndex{2}[CartesianIndex(1, 2); CartesianIndex(2, 2)])\n",
       "```\n"
      ],
      "text/plain": [
       "\u001b[36m  findmax(itr) -> (x, index)\u001b[39m\n",
       "\n",
       "  Return the maximum element of the collection \u001b[36mitr\u001b[39m and its index. If there are\n",
       "  multiple maximal elements, then the first one will be returned. If any data\n",
       "  element is \u001b[36mNaN\u001b[39m, this element is returned. The result is in line with \u001b[36mmax\u001b[39m.\n",
       "\n",
       "  The collection must not be empty.\n",
       "\n",
       "\u001b[1m  Examples\u001b[22m\n",
       "\u001b[1m  ≡≡≡≡≡≡≡≡≡≡\u001b[22m\n",
       "\n",
       "\u001b[36m  julia> findmax([8,0.1,-9,pi])\u001b[39m\n",
       "\u001b[36m  (8.0, 1)\u001b[39m\n",
       "\u001b[36m  \u001b[39m\n",
       "\u001b[36m  julia> findmax([1,7,7,6])\u001b[39m\n",
       "\u001b[36m  (7, 2)\u001b[39m\n",
       "\u001b[36m  \u001b[39m\n",
       "\u001b[36m  julia> findmax([1,7,7,NaN])\u001b[39m\n",
       "\u001b[36m  (NaN, 4)\u001b[39m\n",
       "\n",
       "\u001b[36m  findmax(A; dims) -> (maxval, index)\u001b[39m\n",
       "\n",
       "  For an array input, returns the value and index of the maximum over the\n",
       "  given dimensions. \u001b[36mNaN\u001b[39m is treated as greater than all other values.\n",
       "\n",
       "\u001b[1m  Examples\u001b[22m\n",
       "\u001b[1m  ≡≡≡≡≡≡≡≡≡≡\u001b[22m\n",
       "\n",
       "\u001b[36m  julia> A = [1.0 2; 3 4]\u001b[39m\n",
       "\u001b[36m  2×2 Array{Float64,2}:\u001b[39m\n",
       "\u001b[36m   1.0  2.0\u001b[39m\n",
       "\u001b[36m   3.0  4.0\u001b[39m\n",
       "\u001b[36m  \u001b[39m\n",
       "\u001b[36m  julia> findmax(A, dims=1)\u001b[39m\n",
       "\u001b[36m  ([3.0 4.0], CartesianIndex{2}[CartesianIndex(2, 1) CartesianIndex(2, 2)])\u001b[39m\n",
       "\u001b[36m  \u001b[39m\n",
       "\u001b[36m  julia> findmax(A, dims=2)\u001b[39m\n",
       "\u001b[36m  ([2.0; 4.0], CartesianIndex{2}[CartesianIndex(1, 2); CartesianIndex(2, 2)])\u001b[39m"
      ]
     },
     "execution_count": 7,
     "metadata": {},
     "output_type": "execute_result"
    }
   ],
   "source": [
    "@doc findmax # to be used together with countmap"
   ]
  },
  {
   "cell_type": "code",
   "execution_count": 8,
   "metadata": {},
   "outputs": [
    {
     "data": {
      "text/plain": [
       "(2, \"versicolor\")"
      ]
     },
     "execution_count": 8,
     "metadata": {},
     "output_type": "execute_result"
    }
   ],
   "source": [
    "# to complete the hint, let us assume we had an array of three votes\n",
    "vote_example = [\"versicolor\", \"setosa\", \"versicolor\"]\n",
    "findmax(countmap(vote_example)) # find the (count, value) pair of the most frequent vote"
   ]
  },
  {
   "cell_type": "code",
   "execution_count": 9,
   "metadata": {},
   "outputs": [
    {
     "data": {
      "text/plain": [
       "predict (generic function with 1 method)"
      ]
     },
     "execution_count": 9,
     "metadata": {},
     "output_type": "execute_result"
    }
   ],
   "source": [
    "# now it's your turn again:\n",
    "\n",
    "function predict(knn, X) # knn is an object of type KNN, X is to be predicted\n",
    "    error(\"TODO: implement this function\")\n",
    "end"
   ]
  },
  {
   "cell_type": "markdown",
   "metadata": {},
   "source": [
    "## 4) Estimate the Accuracy\n",
    "\n",
    "You can use the test set to make predictions and compare them with true labels. The accuracy is defined as the fraction of correct predictions."
   ]
  },
  {
   "cell_type": "code",
   "execution_count": 10,
   "metadata": {},
   "outputs": [],
   "source": [
    "# TODO"
   ]
  }
 ],
 "metadata": {
  "kernelspec": {
   "display_name": "Julia 1.3.0",
   "language": "julia",
   "name": "julia-1.3"
  },
  "language_info": {
   "file_extension": ".jl",
   "mimetype": "application/julia",
   "name": "julia",
   "version": "1.3.0"
  }
 },
 "nbformat": 4,
 "nbformat_minor": 2
}
